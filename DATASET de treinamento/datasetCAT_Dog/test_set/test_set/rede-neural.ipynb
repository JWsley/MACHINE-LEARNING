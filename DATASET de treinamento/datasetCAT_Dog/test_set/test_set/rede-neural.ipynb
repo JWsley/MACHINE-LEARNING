{
 "cells": [
  {
   "cell_type": "code",
   "execution_count": 1,
   "metadata": {},
   "outputs": [],
   "source": [
    "import numpy as np\n",
    "import torch\n",
    "import torch.nn.functional as F\n",
    "import torchvision\n",
    "import matplotlib.pyplot as plt\n",
    "from time import time\n",
    "from torchvision import datasets, transforms\n",
    "from torch import nn, optim\n"
   ]
  },
  {
   "cell_type": "code",
   "execution_count": 2,
   "metadata": {},
   "outputs": [],
   "source": [
    "#http://yann.lecun.com/exdb/mnist/ - Base de dados MNIST\n",
    "\n",
    "transform = transforms.ToTensor() #Conversão de imagem para tensor\n",
    "\n",
    "trainset = datasets.MNIST('./MNIST_data/', download=True, train=True, transform=transform)\n",
    "# Carrega parte do treino do Dataset\n",
    "\n",
    "trainloader = torch.utils.data.DataLoader(trainset, batch_size=64, shuffle=True) #Cria um buffer para pegar os dados por partes\n",
    "\n",
    "\n",
    "valset = datasets.MNIST('./MNIST_data/', download=True, train=True, transform=transform)\n",
    "# Carrega parte do treino do Dataset\n",
    "\n",
    "valoader = torch.utils.data.DataLoader(trainset, batch_size=64, shuffle=True) #Cria um buffer para pegar os dados por partes\n",
    "\n",
    "\n"
   ]
  },
  {
   "cell_type": "code",
   "execution_count": 12,
   "metadata": {},
   "outputs": [
    {
     "data": {
      "text/plain": [
       "<matplotlib.image.AxesImage at 0x21271f4c3b0>"
      ]
     },
     "execution_count": 12,
     "metadata": {},
     "output_type": "execute_result"
    },
    {
     "data": {
      "image/png": "[encoded data removed]",
      "text/plain": [
       "<Figure size 640x480 with 1 Axes>"
      ]
     },
     "metadata": {},
     "output_type": "display_data"
    }
   ],
   "source": [
    "dataiter = iter(trainloader)\n",
    "\n",
    "\n",
    "imagens,etiquetas = next(dataiter)\n",
    "plt.imshow(imagens[0].numpy().squeeze(), cmap=\"gray_r\")\n",
    "\n"
   ]
  },
  {
   "cell_type": "code",
   "execution_count": 11,
   "metadata": {},
   "outputs": [
    {
     "name": "stdout",
     "output_type": "stream",
     "text": [
      "torch.Size([1, 28, 28])\n",
      "torch.Size([])\n"
     ]
    }
   ],
   "source": [
    "print(imagens[0].shape)#Dimensões da imagem\n",
    "\n",
    "print(etiquetas[0].shape)#Dimensões da Etiqueta"
   ]
  },
  {
   "cell_type": "code",
   "execution_count": 13,
   "metadata": {},
   "outputs": [],
   "source": [
    "#Estrutura da rede inception class Modelo(nn.Module): def _init_(self): super(Modelo, self)._init_() self.linear1 = nn.Linear(28*28, 128) #camada de entrada, 784 neurônios que se ligam a 128 self.linear2 = nn.Linear(128, 64) #camada interna 1, 128 neurônios que se ligam a 64 self.linear1 = nn.Linear(64, 10) #camada interna 2, 64 neurônios que se ligam a 10 # para a camada de saída não é necessário nada, pois só precisamos pegar o output da cama interna 2 #Quanto maior camadas, maior o desempenho, consequentemente, maior gasto de processamento def forward(self,X): X = F.relu(self.linear1(X)) # função de ativação da camada de entrada para a cama interna 1 X = F.relu(self.linear2(X)) # função de ativação da camada de entrada para a cama interna 2 X = self.linear3(X) # função de ativação da camada interna 2 para a cama de saída, nesse caso f(x) = x return F.log_softmax(X, dim=1) # dados utilizados para calcular a pera#Estrutura da rede inception class Modelo(nn.Module): def _init_(self): super(Modelo, self)._init_() self.linear1 = nn.Linear(28*28, 128) #camada de entrada, 784 neurônios que se ligam a 128 self.linear2 = nn.Linear(128, 64) #camada interna 1, 128 neurônios que se ligam a 64 self.linear1 = nn.Linear(64, 10) #camada interna 2, 64 neurônios que se ligam a 10 # para a camada de saída não é necessário nada, pois só precisamos pegar o output da cama interna 2 #Quanto maior camadas, maior o desempenho, consequentemente, maior gasto de processamento def forward(self,X): X = F.relu(self.linear1(X)) # função de ativação da camada de entrada para a cama interna 1 X = F.relu(self.linear2(X)) # função de ativação da camada de entrada para a cama interna 2 X = self.linear3(X) # função de ativação da camada interna 2 para a cama de saída, nesse caso f(x) = x return F.log_softmax(X, dim=1) # dados utilizados para calcular a pera"
   ]
  }
 ],
 "metadata": {
  "kernelspec": {
   "display_name": "Python 3",
   "language": "python",
   "name": "python3"
  },
  "language_info": {
   "codemirror_mode": {
    "name": "ipython",
    "version": 3
   },
   "file_extension": ".py",
   "mimetype": "text/x-python",
   "name": "python",
   "nbconvert_exporter": "python",
   "pygments_lexer": "ipython3",
   "version": "3.12.2"
  }
 },
 "nbformat": 4,
 "nbformat_minor": 2
}
